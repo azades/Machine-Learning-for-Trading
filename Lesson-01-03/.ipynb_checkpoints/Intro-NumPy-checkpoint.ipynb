{
 "cells": [
  {
   "cell_type": "markdown",
   "metadata": {},
   "source": [
    "### Creating NumPy arrays"
   ]
  },
  {
   "cell_type": "code",
   "execution_count": 15,
   "metadata": {},
   "outputs": [
    {
     "name": "stdout",
     "output_type": "stream",
     "text": [
      "[2 3 4]\n",
      "[[2 3 4]\n",
      " [5 6 7]]\n"
     ]
    }
   ],
   "source": [
    "import numpy as np\n",
    "\n",
    "print(np.array([2,3,4]))\n",
    "print(np.array([(2,3,4), (5,6,7)]))"
   ]
  },
  {
   "cell_type": "markdown",
   "metadata": {},
   "source": [
    "### Arrays with initial values"
   ]
  },
  {
   "cell_type": "code",
   "execution_count": 16,
   "metadata": {},
   "outputs": [
    {
     "name": "stdout",
     "output_type": "stream",
     "text": [
      "[1. 1. 1. 1. 1.]\n",
      "[[1. 1. 1. 1.]\n",
      " [1. 1. 1. 1.]\n",
      " [1. 1. 1. 1.]\n",
      " [1. 1. 1. 1.]\n",
      " [1. 1. 1. 1.]]\n",
      "[[1. 1. 1. 1.]\n",
      " [1. 1. 1. 1.]\n",
      " [1. 1. 1. 1.]\n",
      " [1. 1. 1. 1.]\n",
      " [1. 1. 1. 1.]]\n",
      "[[1 1 1 1]\n",
      " [1 1 1 1]\n",
      " [1 1 1 1]\n",
      " [1 1 1 1]\n",
      " [1 1 1 1]]\n"
     ]
    }
   ],
   "source": [
    "# Empty array\n",
    "print(np.empty(5))\n",
    "print(np.empty((5,4)))\n",
    "\n",
    "# Array on 1's\n",
    "print(np.ones((5,4)))\n",
    "\n",
    "# Array with specific datatype\n",
    "print(np.ones((5,4), dtype = np.int_))"
   ]
  },
  {
   "cell_type": "markdown",
   "metadata": {},
   "source": [
    "### Generating random numbers"
   ]
  },
  {
   "cell_type": "code",
   "execution_count": 24,
   "metadata": {},
   "outputs": [
    {
     "name": "stdout",
     "output_type": "stream",
     "text": [
      "[[0.07921752 0.27025597 0.22959988 0.2279413 ]\n",
      " [0.02441381 0.74245473 0.64712151 0.05616583]\n",
      " [0.52714006 0.52987126 0.49957296 0.45992562]\n",
      " [0.92565479 0.00983832 0.47660179 0.57828993]\n",
      " [0.19203123 0.87475578 0.96071872 0.36929864]]\n",
      "[[0.90343822 0.95528631 0.52998421 0.76421763]\n",
      " [0.83035478 0.25017709 0.07203139 0.03687219]\n",
      " [0.9653449  0.81361053 0.13645466 0.70917418]\n",
      " [0.87069505 0.6702265  0.31732076 0.53514611]\n",
      " [0.1153546  0.2702946  0.20087452 0.04648848]]\n",
      "[[61.1556849  70.26069864 46.46042868]\n",
      " [50.08808125 44.77223189 53.64014869]]\n"
     ]
    }
   ],
   "source": [
    "import numpy as np\n",
    "\n",
    "# Generate an array full of random numbers, uniformely sampled from [0.0, 1.0)\n",
    "print(np.random.random((5,4))) # Size tuple\n",
    "\n",
    "# Pass function argument using rand \n",
    "print(np.random.rand(5,4))\n",
    "\n",
    "# Sample numbers from a Gaussian (normal) distribution \n",
    "np.random.normal(size = (2,3)) # Standard normal mean = 0, sd = 1\n",
    "\n",
    "# Sample numbers from a Gaussian (normal) distribution \n",
    "print(np.random.normal(50, 10, size = (2,3))) # Change mean to 50 and sd to 10"
   ]
  },
  {
   "cell_type": "code",
   "execution_count": 29,
   "metadata": {},
   "outputs": [
    {
     "name": "stdout",
     "output_type": "stream",
     "text": [
      "8\n",
      "9\n",
      "[8 7 6 9 0]\n",
      "[[4 5 5]\n",
      " [1 3 9]]\n"
     ]
    }
   ],
   "source": [
    "# Random integers\n",
    "\n",
    "print(np.random.randint(10)) # A single integer between [0,10)\n",
    "print(np.random.randint(0,10)) # A single integer between [0,10)\n",
    "print(np.random.randint(0,10, size=5)) # 5 random integers as a 1D array \n",
    "print(np.random.randint(0,10, size = (2,3))) # 2*3 array of random integers"
   ]
  },
  {
   "cell_type": "markdown",
   "metadata": {},
   "source": [
    "### Array atttributes"
   ]
  },
  {
   "cell_type": "code",
   "execution_count": 37,
   "metadata": {},
   "outputs": [
    {
     "name": "stdout",
     "output_type": "stream",
     "text": [
      "[[0.81237656 0.50153441 0.25081721 0.02990044]\n",
      " [0.64344437 0.22284785 0.03135439 0.21128611]\n",
      " [0.91517937 0.5122813  0.25662097 0.52353091]\n",
      " [0.26182864 0.95884356 0.03460034 0.57982942]\n",
      " [0.00877536 0.86920604 0.67960085 0.40386928]]\n",
      "(5, 4)\n",
      "5\n",
      "4\n",
      "2\n",
      "20\n",
      "float64\n"
     ]
    }
   ],
   "source": [
    "# Creat a 2D array\n",
    "a = np.random.random((5,4))\n",
    "print(a)\n",
    "\n",
    "print(a.shape) # Size of the array\n",
    "print(a.shape[0]) # Number of rows\n",
    "print(a.shape[1]) # Number of columns\n",
    "print(len(a.shape)) # Dimension of array\n",
    "print(a.size) # Number of elements in an array\n",
    "print(a.dtype) # Data type of an array"
   ]
  },
  {
   "cell_type": "markdown",
   "metadata": {},
   "source": [
    "### Math operations on ndarrays"
   ]
  },
  {
   "cell_type": "code",
   "execution_count": 47,
   "metadata": {},
   "outputs": [
    {
     "name": "stdout",
     "output_type": "stream",
     "text": [
      "Array:\n",
      " [[2 0 5 1]\n",
      " [1 3 4 4]\n",
      " [9 2 9 1]\n",
      " [9 3 7 5]\n",
      " [4 7 0 3]]\n",
      "Sum of all elements:  79\n",
      "Sum of each column:  [25 15 25 14]\n",
      "Sum of each row:  [ 8 12 21 24 14]\n",
      "Min of each column:  [1 0 0 1]\n",
      "Max of each row:  [5 4 9 9 7]\n",
      "Mean of all elements:  3.95\n"
     ]
    }
   ],
   "source": [
    "np.random.seed(693) # Seed the random number generator\n",
    "\n",
    "a = np.random.randint(0,10, size=(5,4)) # 5*4 array with random int between [0,10)\n",
    "print('Array:\\n', a)\n",
    "\n",
    "print('Sum of all elements: ', a.sum()) # Sum of all elements\n",
    "\n",
    "# Itrate over rows to compute sum of each column\n",
    "print('Sum of each column: ', a.sum(axis=0)) \n",
    "\n",
    "# Itrate over columns to compute sum of each row\n",
    "print('Sum of each row: ', a.sum(axis=1)) \n",
    "\n",
    "print('Min of each column: ', a.min(axis=0))\n",
    "print('Max of each row: ', a.max(axis=1))\n",
    "print('Mean of all elements: ', a.mean())"
   ]
  },
  {
   "cell_type": "markdown",
   "metadata": {},
   "source": [
    "### Locate max values"
   ]
  },
  {
   "cell_type": "code",
   "execution_count": 50,
   "metadata": {},
   "outputs": [
    {
     "name": "stdout",
     "output_type": "stream",
     "text": [
      "Max value:  14\n",
      "Index of max.:  5\n"
     ]
    }
   ],
   "source": [
    "a = np.array([9, 6, 2, 3, 12, 14, 7, 10], dtype=np.int32)  # 32-bit integer array\n",
    "print('Max value: ', a.max())\n",
    "print('Index of max.: ', np.argmax(a))"
   ]
  },
  {
   "cell_type": "markdown",
   "metadata": {},
   "source": [
    "### Timing NumPy operation"
   ]
  },
  {
   "cell_type": "code",
   "execution_count": 51,
   "metadata": {},
   "outputs": [
    {
     "name": "stdout",
     "output_type": "stream",
     "text": [
      "ML4T\n",
      "Time taken for print statement:  0.00019311904907226562  seconds\n"
     ]
    }
   ],
   "source": [
    "import time\n",
    "\n",
    "t1 = time.time()\n",
    "print('ML4T')\n",
    "t2 = time.time()\n",
    "print('Time taken for print statement: ', t2-t1, ' seconds')"
   ]
  },
  {
   "cell_type": "markdown",
   "metadata": {},
   "source": [
    "### Accessing array elements"
   ]
  },
  {
   "cell_type": "code",
   "execution_count": 59,
   "metadata": {},
   "outputs": [
    {
     "name": "stdout",
     "output_type": "stream",
     "text": [
      "Array:\n",
      " [[0.91476626 0.13082373 0.36050416 0.90855143]\n",
      " [0.53407792 0.65278394 0.28833292 0.38466872]\n",
      " [0.41727037 0.21150723 0.94272471 0.40003386]\n",
      " [0.36463811 0.00301136 0.23930374 0.14293932]\n",
      " [0.54532943 0.4506181  0.84264183 0.99065299]]\n",
      "0.7485044775352826\n",
      "[0.13082373 0.36050416]\n",
      "[[0.91476626 0.13082373]\n",
      " [0.53407792 0.65278394]]\n",
      "[[0.91476626 0.36050416]\n",
      " [0.53407792 0.28833292]\n",
      " [0.41727037 0.94272471]\n",
      " [0.36463811 0.23930374]\n",
      " [0.54532943 0.84264183]]\n"
     ]
    }
   ],
   "source": [
    "a = np.random.rand(5,4)\n",
    "print('Array:\\n', a)\n",
    "\n",
    "# Accesing element at position (3,2)\n",
    "element1 = a[3,2]\n",
    "print(element)\n",
    "\n",
    "element2 = a[0, 1:3]\n",
    "print(element2)\n",
    "\n",
    "element3 = a[0:2, 0:2]\n",
    "print(element3)\n",
    "\n",
    "element4 = a[:, 0:3:2]\n",
    "print(element4)"
   ]
  },
  {
   "cell_type": "markdown",
   "metadata": {},
   "source": [
    "### Modifying array elements"
   ]
  },
  {
   "cell_type": "code",
   "execution_count": 60,
   "metadata": {},
   "outputs": [
    {
     "name": "stdout",
     "output_type": "stream",
     "text": [
      "Array:\n",
      " [[0.4182009  0.09755326 0.55110206 0.70692128]\n",
      " [0.97135827 0.17673057 0.67982406 0.916982  ]\n",
      " [0.09777135 0.27402654 0.13092809 0.15871705]\n",
      " [0.48730513 0.3655591  0.7390583  0.02766328]\n",
      " [0.27442355 0.89574063 0.48344558 0.94850944]]\n",
      "Modified, replaced one element:\n",
      " [[1.         0.09755326 0.55110206 0.70692128]\n",
      " [0.97135827 0.17673057 0.67982406 0.916982  ]\n",
      " [0.09777135 0.27402654 0.13092809 0.15871705]\n",
      " [0.48730513 0.3655591  0.7390583  0.02766328]\n",
      " [0.27442355 0.89574063 0.48344558 0.94850944]]\n",
      "Modified, replaced a row with a single value:\n",
      " [[2.         2.         2.         2.        ]\n",
      " [0.97135827 0.17673057 0.67982406 0.916982  ]\n",
      " [0.09777135 0.27402654 0.13092809 0.15871705]\n",
      " [0.48730513 0.3655591  0.7390583  0.02766328]\n",
      " [0.27442355 0.89574063 0.48344558 0.94850944]]\n",
      "Modified, replaced a column with a list:\n",
      " [[2.         2.         2.         1.        ]\n",
      " [0.97135827 0.17673057 0.67982406 2.        ]\n",
      " [0.09777135 0.27402654 0.13092809 3.        ]\n",
      " [0.48730513 0.3655591  0.7390583  4.        ]\n",
      " [0.27442355 0.89574063 0.48344558 5.        ]]\n"
     ]
    }
   ],
   "source": [
    "a = np.random.rand(5,4)\n",
    "print('Array:\\n', a)\n",
    "\n",
    "a[0,0] = 1\n",
    "print('Modified, replaced one element:\\n', a)\n",
    "\n",
    "a[0, :] = 2\n",
    "print('Modified, replaced a row with a single value:\\n', a)\n",
    "\n",
    "a[:, 3] = [1,2,3,4,5]\n",
    "print('Modified, replaced a column with a list:\\n', a)\n",
    "\n"
   ]
  },
  {
   "cell_type": "markdown",
   "metadata": {},
   "source": [
    "### Indexing an array with another array"
   ]
  },
  {
   "cell_type": "code",
   "execution_count": 61,
   "metadata": {},
   "outputs": [
    {
     "name": "stdout",
     "output_type": "stream",
     "text": [
      "[0.63445261 0.61171835 0.36135528 0.29468324 0.42964585]\n",
      "[0.61171835 0.61171835 0.36135528 0.29468324]\n"
     ]
    }
   ],
   "source": [
    "a = np.random.rand(5)\n",
    "print(a)\n",
    "\n",
    "# List of indicies\n",
    "indicies = np.array([1,1,2,3])\n",
    "print(a[indicies])"
   ]
  },
  {
   "cell_type": "markdown",
   "metadata": {},
   "source": [
    "### Boolean or mask index arrays"
   ]
  },
  {
   "cell_type": "code",
   "execution_count": 63,
   "metadata": {},
   "outputs": [
    {
     "name": "stdout",
     "output_type": "stream",
     "text": [
      "[[20 25 10 23 26 32 10  5  0]\n",
      " [ 0  2 50 20  0  1 28  5  0]]\n",
      "14.277777777777779\n",
      "[10 10  5  0  0  2  0  1  5  0]\n",
      "[[20 25 14 23 26 32 14 14 14]\n",
      " [14 14 50 20 14 14 28 14 14]]\n"
     ]
    }
   ],
   "source": [
    "a = np.array([(20,25,10,23,26,32,10,5,0), (0,2,50,20,0,1,28,5,0)])\n",
    "print(a)\n",
    "\n",
    "# Calculate mean\n",
    "mean = a.mean()\n",
    "print(mean)\n",
    "\n",
    "# Masking\n",
    "print(a[a < mean])\n",
    "\n",
    "# Masking\n",
    "a[a < mean] = mean\n",
    "print(a)"
   ]
  },
  {
   "cell_type": "markdown",
   "metadata": {},
   "source": [
    "### Arithmetic operation"
   ]
  },
  {
   "cell_type": "code",
   "execution_count": 67,
   "metadata": {},
   "outputs": [
    {
     "name": "stdout",
     "output_type": "stream",
     "text": [
      "Original array a:\n",
      " [[ 1  2  3  4  5]\n",
      " [10 20 30 40 50]]\n",
      "Multiple a by 2:\n",
      " [[  2   4   6   8  10]\n",
      " [ 20  40  60  80 100]]\n",
      "Divide a by 2:\n",
      " [[ 0.5  1.   1.5  2.   2.5]\n",
      " [ 5.  10.  15.  20.  25. ]]\n",
      "Original array b:\n",
      " [[100 200 300 400 500]\n",
      " [  1   2   3   4   5]]\n",
      "Add a and b:\n",
      " [[101 202 303 404 505]\n",
      " [ 11  22  33  44  55]]\n",
      "Multiply a and b:\n",
      " [[ 100  400  900 1600 2500]\n",
      " [  10   40   90  160  250]]\n",
      "Divide a by b:\n",
      " [[ 0.01  0.01  0.01  0.01  0.01]\n",
      " [10.   10.   10.   10.   10.  ]]\n"
     ]
    }
   ],
   "source": [
    "a = np.array([(1,2,3,4,5), (10,20,30,40,50)])\n",
    "print('Original array a:\\n', a)\n",
    "\n",
    "# Multiple by 2\n",
    "print('Multiple a by 2:\\n', a*2)\n",
    "\n",
    "# Divide a by 2\n",
    "print('Divide a by 2:\\n', a/2.0)\n",
    "\n",
    "b = np.array([(100,200,300,400,500), (1,2,3,4,5)])\n",
    "print('Original array b:\\n', b)\n",
    "\n",
    "# Add array a and b\n",
    "print('Add a and b:\\n', a+b)\n",
    "\n",
    "# Multiply a and b\n",
    "print('Multiply a and b:\\n', a*b)\n",
    "\n",
    "# Divide a by b\n",
    "print('Divide a by b:\\n', a/b)"
   ]
  },
  {
   "cell_type": "code",
   "execution_count": null,
   "metadata": {},
   "outputs": [],
   "source": []
  }
 ],
 "metadata": {
  "kernelspec": {
   "display_name": "Python [conda env:anaconda3]",
   "language": "python",
   "name": "conda-env-anaconda3-py"
  },
  "language_info": {
   "codemirror_mode": {
    "name": "ipython",
    "version": 3
   },
   "file_extension": ".py",
   "mimetype": "text/x-python",
   "name": "python",
   "nbconvert_exporter": "python",
   "pygments_lexer": "ipython3",
   "version": "3.6.4"
  }
 },
 "nbformat": 4,
 "nbformat_minor": 2
}
