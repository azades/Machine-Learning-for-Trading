{
 "cells": [
  {
   "cell_type": "markdown",
   "metadata": {},
   "source": [
    "### Read CSV"
   ]
  },
  {
   "cell_type": "code",
   "execution_count": 1,
   "metadata": {},
   "outputs": [
    {
     "name": "stdout",
     "output_type": "stream",
     "text": [
      "            Date    Open    High     Low   Close    Volume  Adj Close\n",
      "0     2012-09-12  666.85  669.90  656.00  669.79  25410600     669.79\n",
      "1     2012-09-11  665.11  670.10  656.50  660.59  17987400     660.59\n",
      "2     2012-09-10  680.45  683.29  662.10  662.74  17428500     662.74\n",
      "3     2012-09-07  678.05  682.48  675.77  680.44  11773800     680.44\n",
      "4     2012-09-06  673.17  678.29  670.80  676.27  13971300     676.27\n",
      "5     2012-09-05  675.57  676.35  669.60  670.23  12013400     670.23\n",
      "6     2012-09-04  665.76  675.14  664.50  674.97  13139000     674.97\n",
      "7     2012-08-31  667.25  668.60  657.25  665.24  12082900     665.24\n",
      "8     2012-08-30  670.64  671.55  662.85  663.87  10810700     663.87\n",
      "9     2012-08-29  675.25  677.67  672.60  673.47   7243100     673.47\n",
      "10    2012-08-28  674.98  676.10  670.67  674.80   9550600     674.80\n",
      "11    2012-08-27  679.99  680.87  673.54  675.68  15250300     675.68\n",
      "12    2012-08-24  659.51  669.48  655.55  663.22  15619300     663.22\n",
      "13    2012-08-23  666.11  669.90  661.15  662.63  15004600     662.63\n",
      "14    2012-08-22  654.42  669.00  648.11  668.87  20190100     668.87\n",
      "15    2012-08-21  670.82  674.88  650.33  656.06  29025700     656.06\n",
      "16    2012-08-20  650.01  665.15  649.90  665.15  21906600     665.15\n",
      "17    2012-08-17  640.00  648.19  638.81  648.11  15812900     648.11\n",
      "18    2012-08-16  631.21  636.76  630.50  636.34   9090500     636.34\n",
      "19    2012-08-15  631.30  634.00  627.75  630.83   9190800     630.83\n",
      "20    2012-08-14  631.87  638.61  630.21  631.69  12148900     631.69\n",
      "21    2012-08-13  623.39  630.00  623.25  630.00   9958300     630.00\n",
      "22    2012-08-10  618.71  621.76  618.70  621.70   6962100     621.70\n",
      "23    2012-08-09  617.85  621.73  617.80  620.73   7915800     620.73\n",
      "24    2012-08-08  619.39  623.88  617.10  619.86   8739500     617.21\n",
      "25    2012-08-07  622.77  625.00  618.04  620.91  10373100     618.26\n",
      "26    2012-08-06  617.29  624.87  615.26  622.55  10789400     619.89\n",
      "27    2012-08-03  613.63  617.98  611.56  615.70  12318600     613.07\n",
      "28    2012-08-02  602.84  610.69  600.25  607.79  11862800     605.19\n",
      "29    2012-08-01  615.91  616.40  603.00  606.81  13732200     604.22\n",
      "...          ...     ...     ...     ...     ...       ...        ...\n",
      "3145  2000-03-14  121.22  124.25  114.00  114.25  15321200      28.44\n",
      "3146  2000-03-13  122.12  126.50  119.50  121.31  10864400      30.20\n",
      "3147  2000-03-10  121.69  127.94  121.00  125.75   8900800      31.30\n",
      "3148  2000-03-09  120.87  125.00  118.25  122.25   9884400      30.43\n",
      "3149  2000-03-08  122.87  123.94  118.56  122.00   9690800      30.37\n",
      "3150  2000-03-07  126.44  127.44  121.12  122.87   9767600      30.59\n",
      "3151  2000-03-06  126.00  129.13  125.00  125.69   7520000      31.29\n",
      "3152  2000-03-03  124.87  128.23  120.00  128.00  11565200      31.86\n",
      "3153  2000-03-02  127.00  127.94  120.69  122.00  11136800      30.37\n",
      "3154  2000-03-01  118.56  132.06  118.50  130.31  38478000      32.44\n",
      "3155  2000-02-29  113.56  117.25  112.56  114.62  13186800      28.53\n",
      "3156  2000-02-28  110.12  115.00  108.37  113.25  11729200      28.19\n",
      "3157  2000-02-25  114.81  117.00  110.12  110.37   8908000      27.47\n",
      "3158  2000-02-24  117.31  119.12  111.75  115.20  13446400      28.68\n",
      "3159  2000-02-23  113.23  119.00  111.00  116.25  16905600      28.94\n",
      "3160  2000-02-22  110.12  116.94  106.69  113.81  15083200      28.33\n",
      "3161  2000-02-18  114.62  115.37  110.87  111.25   8346800      27.69\n",
      "3162  2000-02-17  115.19  115.50  113.12  114.87  10350000      28.59\n",
      "3163  2000-02-16  117.75  118.12  112.12  114.12  13525200      28.41\n",
      "3164  2000-02-15  115.25  119.94  115.19  119.00  17363600      29.62\n",
      "3165  2000-02-14  109.31  115.87  108.62  115.81  13130000      28.83\n",
      "3166  2000-02-11  113.62  114.12  108.25  108.75   7592000      27.07\n",
      "3167  2000-02-10  112.87  113.87  110.00  113.50  10832400      28.25\n",
      "3168  2000-02-09  114.12  117.12  112.44  112.62  10698000      28.03\n",
      "3169  2000-02-08  114.00  116.12  111.25  114.87  14613600      28.59\n",
      "3170  2000-02-07  108.00  114.25  105.94  114.06  15770800      28.39\n",
      "3171  2000-02-04  103.94  110.00  103.62  108.00  15206800      26.88\n",
      "3172  2000-02-03  100.31  104.25  100.25  103.31  16977600      25.72\n",
      "3173  2000-02-02  100.75  102.12   97.00   98.81  16588800      24.60\n",
      "3174  2000-02-01  104.00  105.00  100.00  100.25  11380000      24.96\n",
      "\n",
      "[3175 rows x 7 columns]\n"
     ]
    }
   ],
   "source": [
    "import pandas as pd\n",
    "\n",
    "AAPL_df = pd.read_csv('../data/AAPL.csv')\n",
    "print(AAPL_df) #print entire dataframe"
   ]
  },
  {
   "cell_type": "code",
   "execution_count": 2,
   "metadata": {},
   "outputs": [
    {
     "name": "stdout",
     "output_type": "stream",
     "text": [
      "         Date    Open    High     Low   Close    Volume  Adj Close\n",
      "0  2012-09-12  666.85  669.90  656.00  669.79  25410600     669.79\n",
      "1  2012-09-11  665.11  670.10  656.50  660.59  17987400     660.59\n",
      "2  2012-09-10  680.45  683.29  662.10  662.74  17428500     662.74\n",
      "3  2012-09-07  678.05  682.48  675.77  680.44  11773800     680.44\n",
      "4  2012-09-06  673.17  678.29  670.80  676.27  13971300     676.27\n"
     ]
    }
   ],
   "source": [
    "print(AAPL_df.head()) #print first 5 rows"
   ]
  },
  {
   "cell_type": "code",
   "execution_count": 3,
   "metadata": {},
   "outputs": [
    {
     "name": "stdout",
     "output_type": "stream",
     "text": [
      "            Date    Open    High     Low   Close    Volume  Adj Close\n",
      "3170  2000-02-07  108.00  114.25  105.94  114.06  15770800      28.39\n",
      "3171  2000-02-04  103.94  110.00  103.62  108.00  15206800      26.88\n",
      "3172  2000-02-03  100.31  104.25  100.25  103.31  16977600      25.72\n",
      "3173  2000-02-02  100.75  102.12   97.00   98.81  16588800      24.60\n",
      "3174  2000-02-01  104.00  105.00  100.00  100.25  11380000      24.96\n"
     ]
    }
   ],
   "source": [
    "print(AAPL_df.tail()) #print last 5 rows"
   ]
  },
  {
   "cell_type": "code",
   "execution_count": 4,
   "metadata": {},
   "outputs": [
    {
     "name": "stdout",
     "output_type": "stream",
     "text": [
      "            Date    Open    High     Low   Close    Volume  Adj Close\n",
      "3165  2000-02-14  109.31  115.87  108.62  115.81  13130000      28.83\n",
      "3166  2000-02-11  113.62  114.12  108.25  108.75   7592000      27.07\n",
      "3167  2000-02-10  112.87  113.87  110.00  113.50  10832400      28.25\n",
      "3168  2000-02-09  114.12  117.12  112.44  112.62  10698000      28.03\n",
      "3169  2000-02-08  114.00  116.12  111.25  114.87  14613600      28.59\n",
      "3170  2000-02-07  108.00  114.25  105.94  114.06  15770800      28.39\n",
      "3171  2000-02-04  103.94  110.00  103.62  108.00  15206800      26.88\n",
      "3172  2000-02-03  100.31  104.25  100.25  103.31  16977600      25.72\n",
      "3173  2000-02-02  100.75  102.12   97.00   98.81  16588800      24.60\n",
      "3174  2000-02-01  104.00  105.00  100.00  100.25  11380000      24.96\n"
     ]
    }
   ],
   "source": [
    "print(AAPL_df.tail(10)) #print last 10 rows"
   ]
  },
  {
   "cell_type": "markdown",
   "metadata": {},
   "source": [
    "### Select rows"
   ]
  },
  {
   "cell_type": "code",
   "execution_count": 5,
   "metadata": {},
   "outputs": [
    {
     "name": "stdout",
     "output_type": "stream",
     "text": [
      "          Date    Open    High     Low   Close    Volume  Adj Close\n",
      "10  2012-08-28  674.98  676.10  670.67  674.80   9550600     674.80\n",
      "11  2012-08-27  679.99  680.87  673.54  675.68  15250300     675.68\n",
      "12  2012-08-24  659.51  669.48  655.55  663.22  15619300     663.22\n",
      "13  2012-08-23  666.11  669.90  661.15  662.63  15004600     662.63\n",
      "14  2012-08-22  654.42  669.00  648.11  668.87  20190100     668.87\n",
      "15  2012-08-21  670.82  674.88  650.33  656.06  29025700     656.06\n",
      "16  2012-08-20  650.01  665.15  649.90  665.15  21906600     665.15\n",
      "17  2012-08-17  640.00  648.19  638.81  648.11  15812900     648.11\n",
      "18  2012-08-16  631.21  636.76  630.50  636.34   9090500     636.34\n",
      "19  2012-08-15  631.30  634.00  627.75  630.83   9190800     630.83\n",
      "20  2012-08-14  631.87  638.61  630.21  631.69  12148900     631.69\n"
     ]
    }
   ],
   "source": [
    "print(AAPL_df[10:21]) #rows between index 10 to 20"
   ]
  },
  {
   "cell_type": "markdown",
   "metadata": {},
   "source": [
    "### Compute max closing price"
   ]
  },
  {
   "cell_type": "code",
   "execution_count": null,
   "metadata": {},
   "outputs": [],
   "source": []
  },
  {
   "cell_type": "markdown",
   "metadata": {},
   "source": [
    "### Compute mean volume"
   ]
  },
  {
   "cell_type": "code",
   "execution_count": null,
   "metadata": {},
   "outputs": [],
   "source": []
  },
  {
   "cell_type": "markdown",
   "metadata": {},
   "source": [
    "### Plotting stock price data"
   ]
  },
  {
   "cell_type": "code",
   "execution_count": 6,
   "metadata": {},
   "outputs": [
    {
     "data": {
      "text/plain": [
       "<matplotlib.axes._subplots.AxesSubplot at 0x11111a7b8>"
      ]
     },
     "execution_count": 6,
     "metadata": {},
     "output_type": "execute_result"
    }
   ],
   "source": [
    "# Plot 'Adj close' for Apple\n",
    "import pandas as pd\n",
    "import matplotlib.pyplot as plt\n",
    "\n",
    "AAPL_df['Adj Close'].plot()"
   ]
  },
  {
   "cell_type": "code",
   "execution_count": 7,
   "metadata": {},
   "outputs": [
    {
     "data": {
      "text/plain": [
       "<matplotlib.axes._subplots.AxesSubplot at 0x116e74be0>"
      ]
     },
     "execution_count": 7,
     "metadata": {},
     "output_type": "execute_result"
    },
    {
     "data": {
      "image/png": "[encoded data removed]",
      "text/plain": [
       "<matplotlib.figure.Figure at 0x116e745c0>"
      ]
     },
     "metadata": {},
     "output_type": "display_data"
    }
   ],
   "source": [
    "# Plot 'High' for IBM\n",
    "import pandas as pd\n",
    "import matplotlib.pyplot as plt\n",
    "\n",
    "IBM_df = pd.read_csv('../data/IBM.csv')\n",
    "IBM_df['High'].plot()"
   ]
  },
  {
   "cell_type": "markdown",
   "metadata": {},
   "source": [
    "### Plot two columns"
   ]
  },
  {
   "cell_type": "code",
   "execution_count": 8,
   "metadata": {},
   "outputs": [
    {
     "data": {
      "text/plain": [
       "<matplotlib.axes._subplots.AxesSubplot at 0x11742d908>"
      ]
     },
     "execution_count": 8,
     "metadata": {},
     "output_type": "execute_result"
    },
    {
     "data": {
      "image/png": "[encoded data removed]",
      "text/plain": [
       "<matplotlib.figure.Figure at 0x116eea4a8>"
      ]
     },
     "metadata": {},
     "output_type": "display_data"
    }
   ],
   "source": [
    "# Plot 'Close' and 'Adj Close' for Apple\n",
    "import pandas as pd\n",
    "import matplotlib.pyplot as plt\n",
    "\n",
    "IBM_df[['Close', 'Adj Close']].plot()"
   ]
  }
 ],
 "metadata": {
  "kernelspec": {
   "display_name": "Python [conda env:anaconda3]",
   "language": "python",
   "name": "conda-env-anaconda3-py"
  },
  "language_info": {
   "codemirror_mode": {
    "name": "ipython",
    "version": 3
   },
   "file_extension": ".py",
   "mimetype": "text/x-python",
   "name": "python",
   "nbconvert_exporter": "python",
   "pygments_lexer": "ipython3",
   "version": "3.6.4"
  }
 },
 "nbformat": 4,
 "nbformat_minor": 2
}
