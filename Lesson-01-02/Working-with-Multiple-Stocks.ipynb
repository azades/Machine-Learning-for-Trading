{
 "cells": [
  {
   "cell_type": "markdown",
   "metadata": {},
   "source": [
    "### Create an empty dataframe"
   ]
  },
  {
   "cell_type": "code",
   "execution_count": 1,
   "metadata": {},
   "outputs": [
    {
     "name": "stdout",
     "output_type": "stream",
     "text": [
      "DatetimeIndex(['2010-01-22', '2010-01-23', '2010-01-24', '2010-01-25',\n",
      "               '2010-01-26'],\n",
      "              dtype='datetime64[ns]', freq='D')\n",
      "2010-01-22 00:00:00\n"
     ]
    },
    {
     "data": {
      "text/html": [
       "<div>\n",
       "<style scoped>\n",
       "    .dataframe tbody tr th:only-of-type {\n",
       "        vertical-align: middle;\n",
       "    }\n",
       "\n",
       "    .dataframe tbody tr th {\n",
       "        vertical-align: top;\n",
       "    }\n",
       "\n",
       "    .dataframe thead th {\n",
       "        text-align: right;\n",
       "    }\n",
       "</style>\n",
       "<table border=\"1\" class=\"dataframe\">\n",
       "  <thead>\n",
       "    <tr style=\"text-align: right;\">\n",
       "      <th></th>\n",
       "    </tr>\n",
       "  </thead>\n",
       "  <tbody>\n",
       "    <tr>\n",
       "      <th>2010-01-22</th>\n",
       "    </tr>\n",
       "    <tr>\n",
       "      <th>2010-01-23</th>\n",
       "    </tr>\n",
       "    <tr>\n",
       "      <th>2010-01-24</th>\n",
       "    </tr>\n",
       "    <tr>\n",
       "      <th>2010-01-25</th>\n",
       "    </tr>\n",
       "    <tr>\n",
       "      <th>2010-01-26</th>\n",
       "    </tr>\n",
       "  </tbody>\n",
       "</table>\n",
       "</div>"
      ],
      "text/plain": [
       "Empty DataFrame\n",
       "Columns: []\n",
       "Index: [2010-01-22 00:00:00, 2010-01-23 00:00:00, 2010-01-24 00:00:00, 2010-01-25 00:00:00, 2010-01-26 00:00:00]"
      ]
     },
     "execution_count": 1,
     "metadata": {},
     "output_type": "execute_result"
    }
   ],
   "source": [
    "import pandas as pd\n",
    "\n",
    "# Define date range\n",
    "start_date = '2010-01-22'\n",
    "end_date = '2010-01-26'\n",
    "dates = pd.date_range(start_date, end_date)\n",
    "print(dates)\n",
    "print(dates[0])\n",
    "\n",
    "# Create an empty dataframe\n",
    "df1 = pd.DataFrame(index = dates)\n",
    "df1"
   ]
  },
  {
   "cell_type": "markdown",
   "metadata": {},
   "source": [
    "### Join SPY data"
   ]
  },
  {
   "cell_type": "code",
   "execution_count": 2,
   "metadata": {},
   "outputs": [
    {
     "data": {
      "text/html": [
       "<div>\n",
       "<style scoped>\n",
       "    .dataframe tbody tr th:only-of-type {\n",
       "        vertical-align: middle;\n",
       "    }\n",
       "\n",
       "    .dataframe tbody tr th {\n",
       "        vertical-align: top;\n",
       "    }\n",
       "\n",
       "    .dataframe thead th {\n",
       "        text-align: right;\n",
       "    }\n",
       "</style>\n",
       "<table border=\"1\" class=\"dataframe\">\n",
       "  <thead>\n",
       "    <tr style=\"text-align: right;\">\n",
       "      <th></th>\n",
       "      <th>SPY</th>\n",
       "    </tr>\n",
       "  </thead>\n",
       "  <tbody>\n",
       "    <tr>\n",
       "      <th>2010-01-22</th>\n",
       "      <td>104.34</td>\n",
       "    </tr>\n",
       "    <tr>\n",
       "      <th>2010-01-23</th>\n",
       "      <td>NaN</td>\n",
       "    </tr>\n",
       "    <tr>\n",
       "      <th>2010-01-24</th>\n",
       "      <td>NaN</td>\n",
       "    </tr>\n",
       "    <tr>\n",
       "      <th>2010-01-25</th>\n",
       "      <td>104.87</td>\n",
       "    </tr>\n",
       "    <tr>\n",
       "      <th>2010-01-26</th>\n",
       "      <td>104.43</td>\n",
       "    </tr>\n",
       "  </tbody>\n",
       "</table>\n",
       "</div>"
      ],
      "text/plain": [
       "               SPY\n",
       "2010-01-22  104.34\n",
       "2010-01-23     NaN\n",
       "2010-01-24     NaN\n",
       "2010-01-25  104.87\n",
       "2010-01-26  104.43"
      ]
     },
     "execution_count": 2,
     "metadata": {},
     "output_type": "execute_result"
    }
   ],
   "source": [
    "# Read SPY data into temporary dataframe\n",
    "dfspy = pd.read_csv('../data/SPY.csv', index_col = 'Date', parse_dates = True, \n",
    "                   usecols = ['Date', 'Adj Close'], na_values = 'nan')\n",
    "\n",
    "# Rename 'Adj close' column to SPY \n",
    "dfspy = dfspy.rename(columns = {'Adj Close': 'SPY'})\n",
    "\n",
    "# Join the two dataframes\n",
    "df1 = df1.join(dfspy)\n",
    "df1"
   ]
  },
  {
   "cell_type": "code",
   "execution_count": 3,
   "metadata": {},
   "outputs": [
    {
     "data": {
      "text/html": [
       "<div>\n",
       "<style scoped>\n",
       "    .dataframe tbody tr th:only-of-type {\n",
       "        vertical-align: middle;\n",
       "    }\n",
       "\n",
       "    .dataframe tbody tr th {\n",
       "        vertical-align: top;\n",
       "    }\n",
       "\n",
       "    .dataframe thead th {\n",
       "        text-align: right;\n",
       "    }\n",
       "</style>\n",
       "<table border=\"1\" class=\"dataframe\">\n",
       "  <thead>\n",
       "    <tr style=\"text-align: right;\">\n",
       "      <th></th>\n",
       "      <th>SPY</th>\n",
       "    </tr>\n",
       "  </thead>\n",
       "  <tbody>\n",
       "    <tr>\n",
       "      <th>2010-01-22</th>\n",
       "      <td>104.34</td>\n",
       "    </tr>\n",
       "    <tr>\n",
       "      <th>2010-01-25</th>\n",
       "      <td>104.87</td>\n",
       "    </tr>\n",
       "    <tr>\n",
       "      <th>2010-01-26</th>\n",
       "      <td>104.43</td>\n",
       "    </tr>\n",
       "  </tbody>\n",
       "</table>\n",
       "</div>"
      ],
      "text/plain": [
       "               SPY\n",
       "2010-01-22  104.34\n",
       "2010-01-25  104.87\n",
       "2010-01-26  104.43"
      ]
     },
     "execution_count": 3,
     "metadata": {},
     "output_type": "execute_result"
    }
   ],
   "source": [
    "# Drop NaN Values\n",
    "df1 = df1.dropna()\n",
    "df1"
   ]
  },
  {
   "cell_type": "code",
   "execution_count": null,
   "metadata": {},
   "outputs": [],
   "source": [
    "# Using 'how' parameter for join\n",
    "df1 = df1.join(dfspy, how = 'inner')\n",
    "df1"
   ]
  },
  {
   "cell_type": "markdown",
   "metadata": {},
   "source": [
    "### Read in more stocks"
   ]
  },
  {
   "cell_type": "code",
   "execution_count": 5,
   "metadata": {},
   "outputs": [],
   "source": [
    "symbols = ['GOOG', 'IBM', 'GLD']\n",
    "\n",
    "for symbol in symbols:\n",
    "    df_temp = pd.read_csv('../data/{}.csv'.format(symbol), index_col = 'Date', \n",
    "    parse_dates = True, usecols = ['Date', 'Adj Close'], na_values = 'nan')\n",
    "\n",
    "    # Rename 'Adj Close' column name to symbol name\n",
    "    df_temp = df_temp.rename(columns = {'Adj Close': symbol})\n",
    "    \n",
    "    # Join it with Df1\n",
    "    df1 = df1.join(df_temp)"
   ]
  },
  {
   "cell_type": "code",
   "execution_count": 6,
   "metadata": {},
   "outputs": [
    {
     "data": {
      "text/html": [
       "<div>\n",
       "<style scoped>\n",
       "    .dataframe tbody tr th:only-of-type {\n",
       "        vertical-align: middle;\n",
       "    }\n",
       "\n",
       "    .dataframe tbody tr th {\n",
       "        vertical-align: top;\n",
       "    }\n",
       "\n",
       "    .dataframe thead th {\n",
       "        text-align: right;\n",
       "    }\n",
       "</style>\n",
       "<table border=\"1\" class=\"dataframe\">\n",
       "  <thead>\n",
       "    <tr style=\"text-align: right;\">\n",
       "      <th></th>\n",
       "      <th>SPY</th>\n",
       "      <th>GOOG</th>\n",
       "      <th>IBM</th>\n",
       "      <th>GLD</th>\n",
       "    </tr>\n",
       "  </thead>\n",
       "  <tbody>\n",
       "    <tr>\n",
       "      <th>2010-01-22</th>\n",
       "      <td>104.34</td>\n",
       "      <td>550.01</td>\n",
       "      <td>119.61</td>\n",
       "      <td>107.17</td>\n",
       "    </tr>\n",
       "    <tr>\n",
       "      <th>2010-01-25</th>\n",
       "      <td>104.87</td>\n",
       "      <td>540.00</td>\n",
       "      <td>120.20</td>\n",
       "      <td>107.48</td>\n",
       "    </tr>\n",
       "    <tr>\n",
       "      <th>2010-01-26</th>\n",
       "      <td>104.43</td>\n",
       "      <td>542.42</td>\n",
       "      <td>119.85</td>\n",
       "      <td>107.56</td>\n",
       "    </tr>\n",
       "  </tbody>\n",
       "</table>\n",
       "</div>"
      ],
      "text/plain": [
       "               SPY    GOOG     IBM     GLD\n",
       "2010-01-22  104.34  550.01  119.61  107.17\n",
       "2010-01-25  104.87  540.00  120.20  107.48\n",
       "2010-01-26  104.43  542.42  119.85  107.56"
      ]
     },
     "execution_count": 6,
     "metadata": {},
     "output_type": "execute_result"
    }
   ],
   "source": [
    "df1.head()"
   ]
  },
  {
   "cell_type": "markdown",
   "metadata": {},
   "source": [
    "### Utility function for reading data"
   ]
  },
  {
   "cell_type": "code",
   "execution_count": 7,
   "metadata": {},
   "outputs": [],
   "source": [
    "import os\n",
    "import pandas as pd\n",
    "\n",
    "def symbol_to_path(symbol, base_dir=\"../data\"):\n",
    "    # Return CSV file path given ticker symbol.\n",
    "    return os.path.join(base_dir, \"{}.csv\".format(str(symbol)))\n",
    "\n",
    "\n",
    "def get_data(symbols, dates):\n",
    "    # Read stock data (adjusted close) for given symbols from CSV files.\n",
    "    stock_df = pd.DataFrame(index=dates)\n",
    "    if 'SPY' not in symbols:  # add SPY for reference, if absent\n",
    "        symbols.insert(0, 'SPY')\n",
    "\n",
    "    for symbol in symbols:\n",
    "        # Read and join data for each symbol\n",
    "        df_temp = pd.read_csv(symbol_to_path(symbol), index_col = 'Date', parse_dates = True,\n",
    "        usecols = ['Date', 'Adj Close'], na_values = ['nan'])\n",
    "        \n",
    "        df_temp = df_temp.rename(columns = {'Adj Close': symbol})\n",
    "        stock_df = stock_df.join(df_temp)\n",
    "        if symbol == 'SPY':\n",
    "            stock_df = stock_df.dropna(subset=['SPY'])\n",
    "    return stock_df\n",
    "\n",
    "\n",
    "def run():\n",
    "    # Define a date range\n",
    "    dates = pd.date_range('2010-01-22', '2010-01-26')\n",
    "    \n",
    "    # Choose stock symbols to read\n",
    "    symbols = ['GOOG', 'IBM', 'GLD']\n",
    "    \n",
    "    # Get stock data\n",
    "    stock_df = get_data(symbols, dates)\n",
    "    \n",
    "    return stock_df"
   ]
  },
  {
   "cell_type": "code",
   "execution_count": 8,
   "metadata": {},
   "outputs": [
    {
     "data": {
      "text/html": [
       "<div>\n",
       "<style scoped>\n",
       "    .dataframe tbody tr th:only-of-type {\n",
       "        vertical-align: middle;\n",
       "    }\n",
       "\n",
       "    .dataframe tbody tr th {\n",
       "        vertical-align: top;\n",
       "    }\n",
       "\n",
       "    .dataframe thead th {\n",
       "        text-align: right;\n",
       "    }\n",
       "</style>\n",
       "<table border=\"1\" class=\"dataframe\">\n",
       "  <thead>\n",
       "    <tr style=\"text-align: right;\">\n",
       "      <th></th>\n",
       "      <th>SPY</th>\n",
       "      <th>GOOG</th>\n",
       "      <th>IBM</th>\n",
       "      <th>GLD</th>\n",
       "    </tr>\n",
       "  </thead>\n",
       "  <tbody>\n",
       "    <tr>\n",
       "      <th>2010-01-22</th>\n",
       "      <td>104.34</td>\n",
       "      <td>550.01</td>\n",
       "      <td>119.61</td>\n",
       "      <td>107.17</td>\n",
       "    </tr>\n",
       "    <tr>\n",
       "      <th>2010-01-25</th>\n",
       "      <td>104.87</td>\n",
       "      <td>540.00</td>\n",
       "      <td>120.20</td>\n",
       "      <td>107.48</td>\n",
       "    </tr>\n",
       "    <tr>\n",
       "      <th>2010-01-26</th>\n",
       "      <td>104.43</td>\n",
       "      <td>542.42</td>\n",
       "      <td>119.85</td>\n",
       "      <td>107.56</td>\n",
       "    </tr>\n",
       "  </tbody>\n",
       "</table>\n",
       "</div>"
      ],
      "text/plain": [
       "               SPY    GOOG     IBM     GLD\n",
       "2010-01-22  104.34  550.01  119.61  107.17\n",
       "2010-01-25  104.87  540.00  120.20  107.48\n",
       "2010-01-26  104.43  542.42  119.85  107.56"
      ]
     },
     "execution_count": 8,
     "metadata": {},
     "output_type": "execute_result"
    }
   ],
   "source": [
    "run()"
   ]
  },
  {
   "cell_type": "markdown",
   "metadata": {},
   "source": [
    "### Slicing data"
   ]
  },
  {
   "cell_type": "code",
   "execution_count": 9,
   "metadata": {},
   "outputs": [],
   "source": [
    "# Getting the stock data for one year\n",
    "\n",
    "\n",
    "# Define a date range\n",
    "dates = pd.date_range('2010-01-01', '2010-12-31')\n",
    "\n",
    "# Choose stock symbols to read\n",
    "symbols = ['GOOG', 'IBM', 'GLD']\n",
    "    \n",
    "# Get stock data\n",
    "one_year_stock_df = get_data(symbols, dates)"
   ]
  },
  {
   "cell_type": "code",
   "execution_count": 10,
   "metadata": {},
   "outputs": [
    {
     "data": {
      "text/html": [
       "<div>\n",
       "<style scoped>\n",
       "    .dataframe tbody tr th:only-of-type {\n",
       "        vertical-align: middle;\n",
       "    }\n",
       "\n",
       "    .dataframe tbody tr th {\n",
       "        vertical-align: top;\n",
       "    }\n",
       "\n",
       "    .dataframe thead th {\n",
       "        text-align: right;\n",
       "    }\n",
       "</style>\n",
       "<table border=\"1\" class=\"dataframe\">\n",
       "  <thead>\n",
       "    <tr style=\"text-align: right;\">\n",
       "      <th></th>\n",
       "      <th>SPY</th>\n",
       "      <th>GOOG</th>\n",
       "      <th>IBM</th>\n",
       "      <th>GLD</th>\n",
       "    </tr>\n",
       "  </thead>\n",
       "  <tbody>\n",
       "    <tr>\n",
       "      <th>2010-01-04</th>\n",
       "      <td>108.27</td>\n",
       "      <td>626.75</td>\n",
       "      <td>126.24</td>\n",
       "      <td>109.80</td>\n",
       "    </tr>\n",
       "    <tr>\n",
       "      <th>2010-01-05</th>\n",
       "      <td>108.56</td>\n",
       "      <td>623.99</td>\n",
       "      <td>124.71</td>\n",
       "      <td>109.70</td>\n",
       "    </tr>\n",
       "    <tr>\n",
       "      <th>2010-01-06</th>\n",
       "      <td>108.64</td>\n",
       "      <td>608.26</td>\n",
       "      <td>123.90</td>\n",
       "      <td>111.51</td>\n",
       "    </tr>\n",
       "    <tr>\n",
       "      <th>2010-01-07</th>\n",
       "      <td>109.10</td>\n",
       "      <td>594.10</td>\n",
       "      <td>123.47</td>\n",
       "      <td>110.82</td>\n",
       "    </tr>\n",
       "    <tr>\n",
       "      <th>2010-01-08</th>\n",
       "      <td>109.46</td>\n",
       "      <td>602.02</td>\n",
       "      <td>124.71</td>\n",
       "      <td>111.37</td>\n",
       "    </tr>\n",
       "  </tbody>\n",
       "</table>\n",
       "</div>"
      ],
      "text/plain": [
       "               SPY    GOOG     IBM     GLD\n",
       "2010-01-04  108.27  626.75  126.24  109.80\n",
       "2010-01-05  108.56  623.99  124.71  109.70\n",
       "2010-01-06  108.64  608.26  123.90  111.51\n",
       "2010-01-07  109.10  594.10  123.47  110.82\n",
       "2010-01-08  109.46  602.02  124.71  111.37"
      ]
     },
     "execution_count": 10,
     "metadata": {},
     "output_type": "execute_result"
    }
   ],
   "source": [
    "one_year_stock_df.head()"
   ]
  },
  {
   "cell_type": "code",
   "execution_count": 12,
   "metadata": {
    "scrolled": false
   },
   "outputs": [
    {
     "data": {
      "text/html": [
       "<div>\n",
       "<style scoped>\n",
       "    .dataframe tbody tr th:only-of-type {\n",
       "        vertical-align: middle;\n",
       "    }\n",
       "\n",
       "    .dataframe tbody tr th {\n",
       "        vertical-align: top;\n",
       "    }\n",
       "\n",
       "    .dataframe thead th {\n",
       "        text-align: right;\n",
       "    }\n",
       "</style>\n",
       "<table border=\"1\" class=\"dataframe\">\n",
       "  <thead>\n",
       "    <tr style=\"text-align: right;\">\n",
       "      <th></th>\n",
       "      <th>SPY</th>\n",
       "      <th>GOOG</th>\n",
       "      <th>IBM</th>\n",
       "      <th>GLD</th>\n",
       "    </tr>\n",
       "  </thead>\n",
       "  <tbody>\n",
       "    <tr>\n",
       "      <th>2010-01-04</th>\n",
       "      <td>108.27</td>\n",
       "      <td>626.75</td>\n",
       "      <td>126.24</td>\n",
       "      <td>109.80</td>\n",
       "    </tr>\n",
       "    <tr>\n",
       "      <th>2010-01-05</th>\n",
       "      <td>108.56</td>\n",
       "      <td>623.99</td>\n",
       "      <td>124.71</td>\n",
       "      <td>109.70</td>\n",
       "    </tr>\n",
       "    <tr>\n",
       "      <th>2010-01-06</th>\n",
       "      <td>108.64</td>\n",
       "      <td>608.26</td>\n",
       "      <td>123.90</td>\n",
       "      <td>111.51</td>\n",
       "    </tr>\n",
       "    <tr>\n",
       "      <th>2010-01-07</th>\n",
       "      <td>109.10</td>\n",
       "      <td>594.10</td>\n",
       "      <td>123.47</td>\n",
       "      <td>110.82</td>\n",
       "    </tr>\n",
       "    <tr>\n",
       "      <th>2010-01-08</th>\n",
       "      <td>109.46</td>\n",
       "      <td>602.02</td>\n",
       "      <td>124.71</td>\n",
       "      <td>111.37</td>\n",
       "    </tr>\n",
       "  </tbody>\n",
       "</table>\n",
       "</div>"
      ],
      "text/plain": [
       "               SPY    GOOG     IBM     GLD\n",
       "2010-01-04  108.27  626.75  126.24  109.80\n",
       "2010-01-05  108.56  623.99  124.71  109.70\n",
       "2010-01-06  108.64  608.26  123.90  111.51\n",
       "2010-01-07  109.10  594.10  123.47  110.82\n",
       "2010-01-08  109.46  602.02  124.71  111.37"
      ]
     },
     "execution_count": 12,
     "metadata": {},
     "output_type": "execute_result"
    }
   ],
   "source": [
    "# Slice by row range (dates)\n",
    "one_year_stock_df.ix['2010-01-01' : '2010-01-31'].head() # Month of January"
   ]
  },
  {
   "cell_type": "code",
   "execution_count": 13,
   "metadata": {},
   "outputs": [
    {
     "data": {
      "text/plain": [
       "2010-01-04    626.75\n",
       "2010-01-05    623.99\n",
       "2010-01-06    608.26\n",
       "2010-01-07    594.10\n",
       "2010-01-08    602.02\n",
       "Name: GOOG, dtype: float64"
      ]
     },
     "execution_count": 13,
     "metadata": {},
     "output_type": "execute_result"
    }
   ],
   "source": [
    "# Slice by column (symbols)\n",
    "one_year_stock_df['GOOG'].head()"
   ]
  },
  {
   "cell_type": "code",
   "execution_count": 14,
   "metadata": {},
   "outputs": [
    {
     "data": {
      "text/html": [
       "<div>\n",
       "<style scoped>\n",
       "    .dataframe tbody tr th:only-of-type {\n",
       "        vertical-align: middle;\n",
       "    }\n",
       "\n",
       "    .dataframe tbody tr th {\n",
       "        vertical-align: top;\n",
       "    }\n",
       "\n",
       "    .dataframe thead th {\n",
       "        text-align: right;\n",
       "    }\n",
       "</style>\n",
       "<table border=\"1\" class=\"dataframe\">\n",
       "  <thead>\n",
       "    <tr style=\"text-align: right;\">\n",
       "      <th></th>\n",
       "      <th>IBM</th>\n",
       "      <th>GLD</th>\n",
       "    </tr>\n",
       "  </thead>\n",
       "  <tbody>\n",
       "    <tr>\n",
       "      <th>2010-01-04</th>\n",
       "      <td>126.24</td>\n",
       "      <td>109.80</td>\n",
       "    </tr>\n",
       "    <tr>\n",
       "      <th>2010-01-05</th>\n",
       "      <td>124.71</td>\n",
       "      <td>109.70</td>\n",
       "    </tr>\n",
       "    <tr>\n",
       "      <th>2010-01-06</th>\n",
       "      <td>123.90</td>\n",
       "      <td>111.51</td>\n",
       "    </tr>\n",
       "    <tr>\n",
       "      <th>2010-01-07</th>\n",
       "      <td>123.47</td>\n",
       "      <td>110.82</td>\n",
       "    </tr>\n",
       "    <tr>\n",
       "      <th>2010-01-08</th>\n",
       "      <td>124.71</td>\n",
       "      <td>111.37</td>\n",
       "    </tr>\n",
       "  </tbody>\n",
       "</table>\n",
       "</div>"
      ],
      "text/plain": [
       "               IBM     GLD\n",
       "2010-01-04  126.24  109.80\n",
       "2010-01-05  124.71  109.70\n",
       "2010-01-06  123.90  111.51\n",
       "2010-01-07  123.47  110.82\n",
       "2010-01-08  124.71  111.37"
      ]
     },
     "execution_count": 14,
     "metadata": {},
     "output_type": "execute_result"
    }
   ],
   "source": [
    "# Slice by column\n",
    "one_year_stock_df[['IBM', 'GLD']].head() # A list of labels selects multiple columns"
   ]
  },
  {
   "cell_type": "code",
   "execution_count": 15,
   "metadata": {},
   "outputs": [
    {
     "data": {
      "text/html": [
       "<div>\n",
       "<style scoped>\n",
       "    .dataframe tbody tr th:only-of-type {\n",
       "        vertical-align: middle;\n",
       "    }\n",
       "\n",
       "    .dataframe tbody tr th {\n",
       "        vertical-align: top;\n",
       "    }\n",
       "\n",
       "    .dataframe thead th {\n",
       "        text-align: right;\n",
       "    }\n",
       "</style>\n",
       "<table border=\"1\" class=\"dataframe\">\n",
       "  <thead>\n",
       "    <tr style=\"text-align: right;\">\n",
       "      <th></th>\n",
       "      <th>SPY</th>\n",
       "      <th>IBM</th>\n",
       "    </tr>\n",
       "  </thead>\n",
       "  <tbody>\n",
       "    <tr>\n",
       "      <th>2010-03-10</th>\n",
       "      <td>109.84</td>\n",
       "      <td>120.26</td>\n",
       "    </tr>\n",
       "    <tr>\n",
       "      <th>2010-03-11</th>\n",
       "      <td>110.30</td>\n",
       "      <td>122.16</td>\n",
       "    </tr>\n",
       "    <tr>\n",
       "      <th>2010-03-12</th>\n",
       "      <td>110.31</td>\n",
       "      <td>122.48</td>\n",
       "    </tr>\n",
       "    <tr>\n",
       "      <th>2010-03-15</th>\n",
       "      <td>110.34</td>\n",
       "      <td>122.38</td>\n",
       "    </tr>\n",
       "  </tbody>\n",
       "</table>\n",
       "</div>"
      ],
      "text/plain": [
       "               SPY     IBM\n",
       "2010-03-10  109.84  120.26\n",
       "2010-03-11  110.30  122.16\n",
       "2010-03-12  110.31  122.48\n",
       "2010-03-15  110.34  122.38"
      ]
     },
     "execution_count": 15,
     "metadata": {},
     "output_type": "execute_result"
    }
   ],
   "source": [
    "# Slice by row and column\n",
    "one_year_stock_df.ix['2010-03-10':'2010-03-15', ['SPY', 'IBM']]"
   ]
  },
  {
   "cell_type": "markdown",
   "metadata": {},
   "source": [
    "### Plotting multiple stocks"
   ]
  },
  {
   "cell_type": "code",
   "execution_count": 20,
   "metadata": {},
   "outputs": [
    {
     "data": {
      "image/png": "[encoded data removed]",
      "text/plain": [
       "<matplotlib.figure.Figure at 0x119a10400>"
      ]
     },
     "metadata": {},
     "output_type": "display_data"
    }
   ],
   "source": [
    "import matplotlib.pyplot as plt\n",
    "\n",
    "def plot_data(df, title = 'Stock Prices'):\n",
    "    ax = df.plot(title = title, fontsize = 2)\n",
    "    ax.set_xlabel('Date')\n",
    "    ax.set_ylabel('Price')\n",
    "    plt.show()    \n",
    "    \n",
    "plot_data(one_year_stock_df)"
   ]
  },
  {
   "cell_type": "markdown",
   "metadata": {},
   "source": [
    "### Slice and plot two stocks"
   ]
  },
  {
   "cell_type": "code",
   "execution_count": 21,
   "metadata": {},
   "outputs": [
    {
     "data": {
      "image/png": "[encoded data removed]",
      "text/plain": [
       "<matplotlib.figure.Figure at 0x119718048>"
      ]
     },
     "metadata": {},
     "output_type": "display_data"
    }
   ],
   "source": [
    "# Slicing 'SPY' and 'IBM' stock data for '2010-03-01' to'2010-04-01' and make a plot for it\n",
    "\n",
    "import matplotlib.pyplot as plt\n",
    "\n",
    "def plot_selected(df, columns, start_index, end_index):\n",
    "    # Plot the desired columns over index values in the given range.\n",
    "    plot_data(df.ix[start_index : end_index, columns], title = 'Selected data')\n",
    "    \n",
    "plot_selected(one_year_stock_df, ['SPY', 'IBM'], '2010-03-01', '2010-04-01')\n",
    "    "
   ]
  },
  {
   "cell_type": "markdown",
   "metadata": {},
   "source": [
    "### Plotting multiple stocks with normalization"
   ]
  },
  {
   "cell_type": "code",
   "execution_count": 22,
   "metadata": {},
   "outputs": [
    {
     "data": {
      "image/png": "[encoded data removed]",
      "text/plain": [
       "<matplotlib.figure.Figure at 0x1199c6ef0>"
      ]
     },
     "metadata": {},
     "output_type": "display_data"
    }
   ],
   "source": [
    "def normalize_data(df):\n",
    "    # Normalize stock prices using the first row of the dataframe\n",
    "    return (df / df.ix[0, : ])\n",
    "\n",
    "plot_data(normalize_data(one_year_stock_df))"
   ]
  }
 ],
 "metadata": {
  "kernelspec": {
   "display_name": "Python [conda env:anaconda3]",
   "language": "python",
   "name": "conda-env-anaconda3-py"
  },
  "language_info": {
   "codemirror_mode": {
    "name": "ipython",
    "version": 3
   },
   "file_extension": ".py",
   "mimetype": "text/x-python",
   "name": "python",
   "nbconvert_exporter": "python",
   "pygments_lexer": "ipython3",
   "version": "3.6.4"
  }
 },
 "nbformat": 4,
 "nbformat_minor": 2
}
